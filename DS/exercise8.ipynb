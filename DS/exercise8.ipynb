{
 "cells": [
  {
   "cell_type": "code",
   "execution_count": 290,
   "id": "315fc024",
   "metadata": {},
   "outputs": [],
   "source": [
    "import numpy as np\n",
    "from sklearn.cluster import KMeans\n",
    "import matplotlib.pyplot as plt\n",
    "from sklearn.datasets import load_iris\n",
    "from sklearn.model_selection import train_test_split\n",
    "from sklearn import metrics\n",
    "from sklearn.preprocessing import StandardScaler\n",
    "from scipy.stats import mode"
   ]
  },
  {
   "cell_type": "code",
   "execution_count": 291,
   "id": "9b5cb8fb",
   "metadata": {},
   "outputs": [],
   "source": [
    "iris = load_iris()\n",
    "x_data = iris.data\n",
    "y_data = iris.target\n"
   ]
  },
  {
   "cell_type": "code",
   "execution_count": 292,
   "id": "06a5dd94",
   "metadata": {},
   "outputs": [],
   "source": [
    "x_train,x_test,y_train,y_test = train_test_split(x_data,y_data,test_size=0.2)\n",
    "scaler = StandardScaler()\n",
    "X_train = scaler.fit_transform(x_train)\n",
    "X_test = scaler.transform(x_test)\n"
   ]
  },
  {
   "cell_type": "code",
   "execution_count": 293,
   "id": "84b4320a",
   "metadata": {},
   "outputs": [
    {
     "name": "stderr",
     "output_type": "stream",
     "text": [
      "c:\\ProgramData\\anaconda3\\Lib\\site-packages\\sklearn\\cluster\\_kmeans.py:1446: UserWarning: KMeans is known to have a memory leak on Windows with MKL, when there are less chunks than available threads. You can avoid it by setting the environment variable OMP_NUM_THREADS=1.\n",
      "  warnings.warn(\n"
     ]
    }
   ],
   "source": [
    "\n",
    "\n",
    "# Step 3: Fit KMeans on scaled training data\n",
    "model = KMeans(n_clusters=3, random_state=42, n_init=10)\n",
    "model.fit(X_train)\n",
    "\n",
    "# Step 4: Predict cluster assignments\n",
    "y_train_clusters = model.predict(X_train)\n",
    "y_pred_clusters = model.predict(X_test)\n",
    "\n",
    "# Step 5: Map each cluster to actual label by majority voting\n",
    "label_map = {}\n",
    "for cluster in np.unique(y_train_clusters):\n",
    "    mask = (y_train_clusters == cluster)\n",
    "    true_labels = np.array(y_train[mask])\n",
    "\n",
    "    # Get the most common label in the cluster\n",
    "    most_common = mode(true_labels, keepdims=False).mode\n",
    "\n",
    "    # Safely extract scalar from array\n",
    "    label_map[cluster] = most_common.item() if isinstance(most_common, np.ndarray) else most_common\n",
    "\n",
    "# Step 6: Predict actual labels for test data\n",
    "y_pred = np.array([label_map[cluster] for cluster in y_pred_clusters])\n"
   ]
  },
  {
   "cell_type": "code",
   "execution_count": 294,
   "id": "de416411",
   "metadata": {},
   "outputs": [
    {
     "name": "stdout",
     "output_type": "stream",
     "text": [
      "Accuracy: 0.8\n"
     ]
    }
   ],
   "source": [
    "print(\"Accuracy:\", metrics.accuracy_score(y_test, y_pred))"
   ]
  }
 ],
 "metadata": {
  "kernelspec": {
   "display_name": "base",
   "language": "python",
   "name": "python3"
  },
  "language_info": {
   "codemirror_mode": {
    "name": "ipython",
    "version": 3
   },
   "file_extension": ".py",
   "mimetype": "text/x-python",
   "name": "python",
   "nbconvert_exporter": "python",
   "pygments_lexer": "ipython3",
   "version": "3.12.4"
  }
 },
 "nbformat": 4,
 "nbformat_minor": 5
}
