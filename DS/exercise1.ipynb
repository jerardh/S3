{
 "cells": [
  {
   "cell_type": "code",
   "execution_count": 2,
   "id": "d931aa30",
   "metadata": {},
   "outputs": [],
   "source": [
    "import numpy as np"
   ]
  },
  {
   "cell_type": "code",
   "execution_count": 3,
   "id": "9eaf0621",
   "metadata": {},
   "outputs": [
    {
     "name": "stdout",
     "output_type": "stream",
     "text": [
      "Degree array [37.77777778 36.88888889 33.05555556 37.65555556 38.61111111]\n"
     ]
    }
   ],
   "source": [
    "#1. NumPy program to convert Fahrenheit degree to centigrade degree.\n",
    "\n",
    "fht = np.array([100,98.4,91.50,99.78,101.5])\n",
    "degree=np.array([])\n",
    "for temp in fht:\n",
    "    degreeval=(temp-32)*(5/9)\n",
    "    degree = np.append(degree,degreeval)\n",
    "print(\"Degree array\",degree)"
   ]
  },
  {
   "cell_type": "code",
   "execution_count": 4,
   "id": "05c7cddb",
   "metadata": {},
   "outputs": [
    {
     "name": "stdout",
     "output_type": "stream",
     "text": [
      "Mean= 41.285714285714285  Variance= 560.4897959183673  Standard deviation=  23.674665698133253\n"
     ]
    }
   ],
   "source": [
    "#2.  create a random array with 1000 elements and compute the \n",
    "# average, variance, standard deviation of the array elements\n",
    "arr =  np.array([23,55,29,56,28,86,12])\n",
    "mean = np.mean(arr)\n",
    "variance = np.var(arr)\n",
    "std = np.std(arr)\n",
    "\n",
    "print(\"Mean=\",mean,\" Variance=\",variance,\" Standard deviation= \",std)"
   ]
  },
  {
   "cell_type": "code",
   "execution_count": 5,
   "id": "14a14f9e",
   "metadata": {},
   "outputs": [
    {
     "name": "stdout",
     "output_type": "stream",
     "text": [
      "Degrees =  [ 32  40 180 360  45  93]\n",
      "Radian value = [0.55850536 0.6981317  3.14159265 6.28318531 0.78539816 1.6231562 ]\n"
     ]
    }
   ],
   "source": [
    "# 3. NumPy program to convert angles from degrees to radians for all elements in a \n",
    "# given array\n",
    "degrees = np.array([32,40,180,360,45,93])\n",
    "radians  = np.deg2rad(degrees)\n",
    "print(\"Degrees = \",degrees)\n",
    "print(\"Radian value =\",radians)"
   ]
  },
  {
   "cell_type": "code",
   "execution_count": 10,
   "id": "069ac4d8",
   "metadata": {},
   "outputs": [
    {
     "name": "stdout",
     "output_type": "stream",
     "text": [
      "Array [12 34  6 28 46 90  3]\n",
      "Difference [ 22 -28  22  18  44 -87]\n"
     ]
    }
   ],
   "source": [
    "# 4.NumPy program to calculate the difference between neighbouring elements, \n",
    "# element-wise of a given array. \n",
    "arr = np.array([12,34,6,28,46,90,3])\n",
    "diffs =  np.diff(arr)\n",
    "print(\"Array\",arr)\n",
    "print(\"Difference\",diffs)\n"
   ]
  },
  {
   "cell_type": "code",
   "execution_count": 12,
   "id": "406e1d22",
   "metadata": {},
   "outputs": [
    {
     "name": "stdout",
     "output_type": "stream",
     "text": [
      "Array before sorting= [ 7.+5.j  4.+3.j 12.+2.j  1.+8.j  1.+9.j]\n",
      "After sorting= [ 1.+8.j  1.+9.j  4.+3.j  7.+5.j 12.+2.j]\n"
     ]
    }
   ],
   "source": [
    "# 5.NumPy program to sort a given complex array using the real part first, then the \n",
    "# imaginary part.\n",
    "arr = np.array([complex(7,5),complex(4,3),complex(12,2),complex(1,8),complex(1,9)])\n",
    "sorted = np.sort(arr)\n",
    "print(\"Array before sorting=\",arr)\n",
    "print(\"After sorting=\",sorted)"
   ]
  },
  {
   "cell_type": "code",
   "execution_count": 6,
   "id": "0b260920",
   "metadata": {},
   "outputs": [
    {
     "name": "stdout",
     "output_type": "stream",
     "text": [
      "[ 25  16  15   4  24 -15   3   6 -34 -29]\n",
      "Elements greater than 4\n",
      "[25 16 15 24  6]\n"
     ]
    }
   ],
   "source": [
    "#  6.NumPy program to create a 1D array with random numbers and print the values \n",
    "# greater than 4\n",
    "arr=np.random.randint(low=-40,high=40,size=10)\n",
    "print(arr)\n",
    "res =np.where(arr > 4)\n",
    "print(\"Elements greater than 4\")\n",
    "for ele in res:\n",
    "    print(arr[res])\n"
   ]
  },
  {
   "cell_type": "code",
   "execution_count": 41,
   "id": "bbd59bee",
   "metadata": {},
   "outputs": [
    {
     "name": "stdout",
     "output_type": "stream",
     "text": [
      "[36 15  8  9  2 19 24 25 24 33]\n",
      "Number is not present \n"
     ]
    }
   ],
   "source": [
    "#7.NumPy program to create a 1D array with random numbers and\n",
    "#  search a particular number given by the user.\n",
    "arr=np.random.randint(low=-10, high=40, size=10)\n",
    "print(arr)\n",
    "num=int(input(\"Enter a number\"))\n",
    "res=np.where(arr==num)\n",
    "if(len(res[0])==0):\n",
    "    print(\"Number is not present \")\n",
    "else:\n",
    "    print(\"Number is present \")\n"
   ]
  },
  {
   "cell_type": "code",
   "execution_count": null,
   "id": "f1ba2520",
   "metadata": {},
   "outputs": [
    {
     "data": {
      "text/plain": [
       "array([   4.,    5.,    4.,    6.,   11., 2235.,   56.])"
      ]
     },
     "execution_count": 35,
     "metadata": {},
     "output_type": "execute_result"
    }
   ],
   "source": [
    "# 8. NumPy program to save a given array to a text file and load it\n",
    "arr = np.array([4,5,4,6,11,2235,56])\n",
    "np.savetxt(fname=\"test.txt\",X=arr)\n",
    "np.loadtxt(fname=\"test.txt\")"
   ]
  },
  {
   "cell_type": "code",
   "execution_count": 37,
   "id": "d3ae6a00",
   "metadata": {},
   "outputs": [
    {
     "name": "stdout",
     "output_type": "stream",
     "text": [
      "[30 32 34 36 38 40 42 44 46 48 50 52 54 56 58 60]\n"
     ]
    }
   ],
   "source": [
    "# 9.NumPy program to create an array of all the even integers from 30 to 60.\n",
    "arr =  np.arange(30,61,2)\n",
    "print(arr)"
   ]
  },
  {
   "cell_type": "code",
   "execution_count": 39,
   "id": "243068e0",
   "metadata": {},
   "outputs": [
    {
     "name": "stdout",
     "output_type": "stream",
     "text": [
      "Sum= 45\n",
      "Cols sum= [12 15 18]\n",
      "Row sum= [ 6 15 24]\n"
     ]
    }
   ],
   "source": [
    "# 10.  NumPy program to compute sum of all elements ,sum of each column and sum of\n",
    "# each row of a given array.\n",
    "arr = np.array([[1, 2, 3],\n",
    "                [4, 5, 6],\n",
    "                [7, 8, 9]])\n",
    "\n",
    "# Sum of all elements\n",
    "total_sum = np.sum(arr)\n",
    "print(\"Sum=\",total_sum)\n",
    "# Sum of each column (axis=0)\n",
    "col_sum = np.sum(arr, axis=0)\n",
    "print(\"Cols sum=\",col_sum)\n",
    "# Sum of each row (axis=1)\n",
    "row_sum = np.sum(arr, axis=1)\n",
    "print(\"Row sum=\",row_sum)"
   ]
  }
 ],
 "metadata": {
  "kernelspec": {
   "display_name": "base",
   "language": "python",
   "name": "python3"
  },
  "language_info": {
   "codemirror_mode": {
    "name": "ipython",
    "version": 3
   },
   "file_extension": ".py",
   "mimetype": "text/x-python",
   "name": "python",
   "nbconvert_exporter": "python",
   "pygments_lexer": "ipython3",
   "version": "3.12.4"
  }
 },
 "nbformat": 4,
 "nbformat_minor": 5
}
