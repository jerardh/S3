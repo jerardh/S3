{
 "cells": [
  {
   "cell_type": "markdown",
   "id": "806bc6e5",
   "metadata": {},
   "source": [
    "Introduction to Pandas"
   ]
  },
  {
   "cell_type": "code",
   "execution_count": 2,
   "id": "c9d6d3f3",
   "metadata": {},
   "outputs": [],
   "source": [
    "import pandas as pd\n",
    "import numpy as np"
   ]
  },
  {
   "cell_type": "markdown",
   "id": "73b4266f",
   "metadata": {},
   "source": [
    "1. Write a program to implement list to series conversion"
   ]
  },
  {
   "cell_type": "code",
   "execution_count": null,
   "id": "13068b2a",
   "metadata": {},
   "outputs": [
    {
     "name": "stdout",
     "output_type": "stream",
     "text": [
      "0    1\n",
      "1    4\n",
      "2    6\n",
      "3    3\n",
      "dtype: int64\n"
     ]
    }
   ],
   "source": [
    "listdata =  [1,4,6,3]\n",
    "series = pd.Series(listdata)\n",
    "print(series)"
   ]
  },
  {
   "cell_type": "markdown",
   "id": "3899434f",
   "metadata": {},
   "source": [
    "2. Write a python program to generate the series of dates from 1st May 2021, to 12th May 2021"
   ]
  },
  {
   "cell_type": "code",
   "execution_count": 6,
   "id": "0f2cda12",
   "metadata": {},
   "outputs": [
    {
     "name": "stdout",
     "output_type": "stream",
     "text": [
      "<class 'pandas.core.indexes.datetimes.DatetimeIndex'>\n"
     ]
    }
   ],
   "source": [
    "dates = pd.date_range(start = '2021-05-01', end = '2021-05-12')\n",
    "print(type(dates))"
   ]
  },
  {
   "cell_type": "markdown",
   "id": "328e2fb2",
   "metadata": {},
   "source": [
    "3. Given a dictionary, convert it into corresponding dataframe and display it"
   ]
  },
  {
   "cell_type": "code",
   "execution_count": 3,
   "id": "6e803e23",
   "metadata": {},
   "outputs": [
    {
     "name": "stdout",
     "output_type": "stream",
     "text": [
      "       Name  Age      City\n",
      "p1    Alice   25  New York\n",
      "p2      Bob   30     Paris\n",
      "p3  Charlie   35    London\n"
     ]
    }
   ],
   "source": [
    "data = {\n",
    "    'p1': {'Name': 'Alice', 'Age': 25, 'City': 'New York'},\n",
    "    'p2': {'Name': 'Bob', 'Age': 30, 'City': 'Paris'},\n",
    "    'p3': {'Name': 'Charlie', 'Age': 35, 'City': 'London'}\n",
    "}\n",
    "df = pd.DataFrame.from_dict(data,orient='index')\n",
    "print(df)"
   ]
  },
  {
   "cell_type": "markdown",
   "id": "ffca711a",
   "metadata": {},
   "source": [
    "Given a 2D list, convert it into corresponding dataframe and display it"
   ]
  },
  {
   "cell_type": "code",
   "execution_count": 6,
   "id": "cd315fb3",
   "metadata": {},
   "outputs": [
    {
     "name": "stdout",
     "output_type": "stream",
     "text": [
      "   ID   Name  Score\n",
      "0   1  Alice     10\n",
      "1   2    Bob     15\n",
      "2   3    Don     25\n"
     ]
    }
   ],
   "source": [
    "listdata=[\n",
    "    [1,'Alice',10],\n",
    "    [2,'Bob',15],\n",
    "    [3,'Don',25]\n",
    "]\n",
    "df = pd.DataFrame(listdata,columns=['ID','Name','Score'])\n",
    "print(df)"
   ]
  },
  {
   "cell_type": "markdown",
   "id": "91091d02",
   "metadata": {},
   "source": [
    "5. Given a CSV file, read it into a dataframe and display it."
   ]
  },
  {
   "cell_type": "code",
   "execution_count": 8,
   "id": "a225cb66",
   "metadata": {},
   "outputs": [
    {
     "name": "stdout",
     "output_type": "stream",
     "text": [
      "         Country  Gold_Medal\n",
      "0  United_States          46\n",
      "1  Great_Britain          27\n",
      "2          China          26\n",
      "3         Russia          19\n",
      "4        Germany          17\n"
     ]
    }
   ],
   "source": [
    "df = pd.read_csv(\"medal.csv\")\n",
    "print(df)"
   ]
  },
  {
   "cell_type": "markdown",
   "id": "1657e00f",
   "metadata": {},
   "source": [
    "6. Given a dataframe, sort it by multiple columns"
   ]
  },
  {
   "cell_type": "code",
   "execution_count": null,
   "id": "e8b74220",
   "metadata": {},
   "outputs": [
    {
     "name": "stdout",
     "output_type": "stream",
     "text": [
      "Data frame\n",
      "   ID   Name  Score\n",
      "0   1  Alice     15\n",
      "1   2    Bob     15\n",
      "2   3    Don     45\n",
      "Soretd Dataframe\n",
      "   ID   Name  Score\n",
      "2   3    Don     45\n",
      "0   1  Alice     15\n",
      "1   2    Bob     15\n"
     ]
    }
   ],
   "source": [
    "listdata=[\n",
    "    [1,'Alice',15],\n",
    "    [2,'Bob',15],\n",
    "    [3,'Don',45]\n",
    "]\n",
    "df = pd.DataFrame(listdata,columns=['ID','Name','Score'])\n",
    "print(\"Data frame\")\n",
    "print(df)\n",
    "# sorting  first by score then by ascendin order of name\n",
    "sorted_df = df.sort_values(by=['Score','Name'],ascending=[False,True])\n",
    "print(\"Sorted Dataframe\")\n",
    "print(sorted_df)"
   ]
  },
  {
   "cell_type": "markdown",
   "id": "46e274cb",
   "metadata": {},
   "source": [
    "7. Given a dataframe with custom indexing, covert and it to default indexing and display it"
   ]
  },
  {
   "cell_type": "code",
   "execution_count": 22,
   "id": "7e476fdc",
   "metadata": {},
   "outputs": [
    {
     "name": "stdout",
     "output_type": "stream",
     "text": [
      "       Name  Age      City\n",
      "p1    Alice   25  New York\n",
      "p2      Bob   30     Paris\n",
      "p3  Charlie   35    London\n",
      "      Name  Age      City\n",
      "0    Alice   25  New York\n",
      "1      Bob   30     Paris\n",
      "2  Charlie   35    London\n"
     ]
    }
   ],
   "source": [
    "data = [\n",
    "    ['Alice', 25, 'New York'],\n",
    "    ['Bob', 30, 'Paris'],\n",
    "    ['Charlie', 35, 'London']\n",
    "]\n",
    "\n",
    "df = pd.DataFrame(data, columns=['Name', 'Age', 'City'],index=['p1','p2','p3'])\n",
    "print(df)\n",
    "df = df.reset_index(drop=True) # drop=True means don’t add the old index as a column.\n",
    "print(df)"
   ]
  },
  {
   "cell_type": "markdown",
   "id": "05da7526",
   "metadata": {},
   "source": [
    "8. Given a dataframe, select first two rows and output them\n"
   ]
  },
  {
   "cell_type": "code",
   "execution_count": 23,
   "id": "28d041fd",
   "metadata": {},
   "outputs": [
    {
     "name": "stdout",
     "output_type": "stream",
     "text": [
      "    Name  Age      City\n",
      "0  Alice   25  New York\n",
      "1    Bob   30     Paris\n"
     ]
    }
   ],
   "source": [
    "data = [\n",
    "    ['Alice', 25, 'New York'],\n",
    "    ['Bob', 30, 'Paris'],\n",
    "    ['Charlie', 35, 'London']\n",
    "]\n",
    "\n",
    "df = pd.DataFrame(data, columns=['Name', 'Age', 'City'])\n",
    "print(df.iloc[0:2,:])"
   ]
  },
  {
   "cell_type": "markdown",
   "id": "391241e9",
   "metadata": {},
   "source": [
    "9. Given a dataframe showing name, occupation, salary of people. Find average salary per occupation"
   ]
  },
  {
   "cell_type": "code",
   "execution_count": 31,
   "id": "a31a9768",
   "metadata": {},
   "outputs": [
    {
     "name": "stdout",
     "output_type": "stream",
     "text": [
      "      Name       Job  Salary\n",
      "0    Alice   Teacher   25000\n",
      "1      Bob    Doctor   55000\n",
      "2  Charlie   Teacher   20000\n",
      "3    Dylan    Doctor   35000\n",
      "4     Emma  Engineer   65000\n",
      "Job\n",
      "Doctor      45000.0\n",
      "Engineer    65000.0\n",
      "Teacher     22500.0\n",
      "Name: Salary, dtype: float64\n"
     ]
    }
   ],
   "source": [
    "data = [\n",
    "    ['Alice','Teacher',25000],\n",
    "    ['Bob','Doctor',55000],\n",
    "    ['Charlie','Teacher',20000],\n",
    "    ['Dylan','Doctor',35000],\n",
    "    ['Emma','Engineer',65000]\n",
    "]\n",
    "df = pd.DataFrame(data, columns=['Name', 'Job', 'Salary'])\n",
    "print(df)\n",
    "avg_by_job = df.groupby('Job')['Salary'].mean()\n",
    "print(avg_by_job)"
   ]
  },
  {
   "cell_type": "markdown",
   "id": "6d150696",
   "metadata": {},
   "source": [
    "10. Given a dataframe with NaN values, fill the NaN values with 0."
   ]
  },
  {
   "cell_type": "code",
   "execution_count": 36,
   "id": "960c8e11",
   "metadata": {},
   "outputs": [
    {
     "name": "stdout",
     "output_type": "stream",
     "text": [
      "     0  1    2  3\n",
      "A  1.0  2  NaN  4\n",
      "B  NaN  2  3.0  4\n",
      "     0  1    2  3\n",
      "A  1.0  2  0.0  4\n",
      "B  0.0  2  3.0  4\n"
     ]
    }
   ],
   "source": [
    "data = {\n",
    "    'A': [1, 2, np.nan, 4],\n",
    "    'B': [np.nan, 2, 3, 4]\n",
    "}\n",
    "\n",
    "df = pd.DataFrame.from_dict(data,orient='index')\n",
    "print(df)\n",
    "\n",
    "df = df.fillna(0)\n",
    "\n",
    "print(df)"
   ]
  },
  {
   "cell_type": "markdown",
   "id": "6a513d85",
   "metadata": {},
   "source": [
    "11. Given is a dataframe showing Company Names (cname) and corresponding Profits \n",
    "(profit). Convert the values of Profit column such that values in it greater than 0 are \n",
    "set to True and the rest are set to False"
   ]
  },
  {
   "cell_type": "code",
   "execution_count": null,
   "id": "2c0f96f6",
   "metadata": {},
   "outputs": [
    {
     "name": "stdout",
     "output_type": "stream",
     "text": [
      "     Company  Profit\n",
      "0        TCS  100000\n",
      "1  Accenture  200000\n",
      "2    Infosys -100000\n",
      "3  Cognizant -300000\n",
      "     Company  Profit\n",
      "0        TCS    True\n",
      "1  Accenture    True\n",
      "2    Infosys   False\n",
      "3  Cognizant   False\n"
     ]
    },
    {
     "ename": "",
     "evalue": "",
     "output_type": "error",
     "traceback": [
      "\u001b[1;31mThe Kernel crashed while executing code in the current cell or a previous cell. \n",
      "\u001b[1;31mPlease review the code in the cell(s) to identify a possible cause of the failure. \n",
      "\u001b[1;31mClick <a href='https://aka.ms/vscodeJupyterKernelCrash'>here</a> for more info. \n",
      "\u001b[1;31mView Jupyter <a href='command:jupyter.viewOutput'>log</a> for further details."
     ]
    }
   ],
   "source": [
    "data =[\n",
    "    ['TCS',100000],\n",
    "    ['Accenture',200000],\n",
    "    ['Infosys',-100000],\n",
    "    ['Cognizant',-300000]\n",
    "]\n",
    "df = pd.DataFrame(data,columns=['Company','Profit'])\n",
    "print(df)\n",
    "temp = df.loc[df['Profit'] > 0] \n",
    "df['Profit'] = df['Profit'] > 0\n",
    "print(df)"
   ]
  },
  {
   "cell_type": "markdown",
   "id": "6ca48864",
   "metadata": {},
   "source": [
    "12. Given are 2 dataframes, with one dataframe containing Employee ID (eid), Employee \n",
    "Name (ename) and Stipend (stipend) and the other dataframe containing Employee ID \n",
    "(eid) and designation of the employee (designation). Output the Dataframe containing \n",
    "Employee ID (eid), Employee Name (ename), Stipend (stipend) and Position \n",
    "(position)."
   ]
  },
  {
   "cell_type": "code",
   "execution_count": 9,
   "id": "c95d390f",
   "metadata": {},
   "outputs": [
    {
     "name": "stdout",
     "output_type": "stream",
     "text": [
      "    ID   Name  Stipend   Position\n",
      "0  101   John    30000  Developer\n",
      "1  102  Amith    35000  Developer\n",
      "2  103   Sona    20000     Tester\n"
     ]
    }
   ],
   "source": [
    "data1 =[\n",
    "    [101,'John',30000],\n",
    "    [102,'Amith',35000],\n",
    "    [103,'Sona',20000]\n",
    "]\n",
    "df1 = pd.DataFrame(data1,columns=['ID','Name','Stipend'])\n",
    "\n",
    "data2 =[\n",
    "    [101,'Developer'],\n",
    "    [102,'Developer'],\n",
    "    [103,'Tester']\n",
    "]\n",
    "\n",
    "df2 = pd.DataFrame(data2,columns=['ID','Position'])\n",
    "\n",
    "df3 = pd.merge(df1,df2,how='inner',on='ID')  #inner join (only matching keys)\n",
    "\n",
    "print(df3)\n"
   ]
  }
 ],
 "metadata": {
  "kernelspec": {
   "display_name": "base",
   "language": "python",
   "name": "python3"
  },
  "language_info": {
   "codemirror_mode": {
    "name": "ipython",
    "version": 3
   },
   "file_extension": ".py",
   "mimetype": "text/x-python",
   "name": "python",
   "nbconvert_exporter": "python",
   "pygments_lexer": "ipython3",
   "version": "3.12.4"
  }
 },
 "nbformat": 4,
 "nbformat_minor": 5
}
