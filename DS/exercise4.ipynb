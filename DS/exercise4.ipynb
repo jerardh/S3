{
 "cells": [
  {
   "cell_type": "markdown",
   "id": "806bc6e5",
   "metadata": {},
   "source": [
    "Introduction to Pandas"
   ]
  },
  {
   "cell_type": "code",
   "execution_count": 1,
   "id": "c9d6d3f3",
   "metadata": {},
   "outputs": [],
   "source": [
    "import pandas as pd"
   ]
  },
  {
   "cell_type": "markdown",
   "id": "73b4266f",
   "metadata": {},
   "source": [
    "1. Write a program to implement list to series conversion"
   ]
  },
  {
   "cell_type": "code",
   "execution_count": 3,
   "id": "13068b2a",
   "metadata": {},
   "outputs": [
    {
     "name": "stdout",
     "output_type": "stream",
     "text": [
      "0    1\n",
      "1    4\n",
      "2    6\n",
      "3    3\n",
      "dtype: int64\n"
     ]
    }
   ],
   "source": [
    "listdata =  [1,4,6,3]\n",
    "series = pd.Series(listdata)\n",
    "print(series)"
   ]
  },
  {
   "cell_type": "markdown",
   "id": "3899434f",
   "metadata": {},
   "source": [
    "2. Write a python program to generate the series of dates from 1st May 2021, to 12th May 2021"
   ]
  },
  {
   "cell_type": "code",
   "execution_count": 6,
   "id": "0f2cda12",
   "metadata": {},
   "outputs": [
    {
     "name": "stdout",
     "output_type": "stream",
     "text": [
      "<class 'pandas.core.indexes.datetimes.DatetimeIndex'>\n"
     ]
    }
   ],
   "source": [
    "dates = pd.date_range(start = '2021-05-01', end = '2021-05-12')\n",
    "print(type(dates))"
   ]
  }
 ],
 "metadata": {
  "kernelspec": {
   "display_name": "base",
   "language": "python",
   "name": "python3"
  },
  "language_info": {
   "codemirror_mode": {
    "name": "ipython",
    "version": 3
   },
   "file_extension": ".py",
   "mimetype": "text/x-python",
   "name": "python",
   "nbconvert_exporter": "python",
   "pygments_lexer": "ipython3",
   "version": "3.12.4"
  }
 },
 "nbformat": 4,
 "nbformat_minor": 5
}
