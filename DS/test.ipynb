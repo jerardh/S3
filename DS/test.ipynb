{
 "cells": [
  {
   "cell_type": "code",
   "execution_count": null,
   "id": "f249b47a",
   "metadata": {},
   "outputs": [],
   "source": [
    "import numpy as np\n"
   ]
  },
  {
   "cell_type": "code",
   "execution_count": 2,
   "id": "e4607ddb",
   "metadata": {},
   "outputs": [
    {
     "name": "stdout",
     "output_type": "stream",
     "text": [
      "<class 'numpy.ndarray'>\n"
     ]
    }
   ],
   "source": [
    "data=np.array([\n",
    " 1,2,3,4\n",
    "])\n",
    "print(type(data))"
   ]
  },
  {
   "cell_type": "code",
   "execution_count": null,
   "id": "ee42aac9",
   "metadata": {},
   "outputs": [
    {
     "name": "stdout",
     "output_type": "stream",
     "text": [
      "[ 2  4  6  8 10 12 14 16 18 20 22 24 26 28 30 32 34 36 38 40 42 44 46 48\n",
      " 50 52 54 56 58 60 62 64 66 68 70 72 74 76 78 80 82 84 86 88]\n",
      "[18 14 10]\n"
     ]
    }
   ],
   "source": [
    "vals=np.arange(2,90,2) # arange(begin,end,stepsize) creates an array from numbers\n",
    "print(vals)\n"
   ]
  },
  {
   "cell_type": "code",
   "execution_count": 4,
   "id": "b5f14d3c",
   "metadata": {},
   "outputs": [
    {
     "name": "stdout",
     "output_type": "stream",
     "text": [
      "[0. 0. 0. 0. 0. 0. 0. 0. 0. 0. 0. 0. 0. 0. 0.]\n"
     ]
    }
   ],
   "source": [
    "vals=np.zeros(15) #creates an array of 15 zeroes\n",
    "print(vals)"
   ]
  },
  {
   "cell_type": "code",
   "execution_count": 5,
   "id": "5260edf3",
   "metadata": {},
   "outputs": [
    {
     "name": "stdout",
     "output_type": "stream",
     "text": [
      "[1. 1. 1. 1. 1. 1. 1. 1. 1. 1.]\n"
     ]
    }
   ],
   "source": [
    "vals=np.ones(10)\n",
    "print(vals)"
   ]
  },
  {
   "cell_type": "code",
   "execution_count": 6,
   "id": "b6a213b7",
   "metadata": {},
   "outputs": [
    {
     "name": "stdout",
     "output_type": "stream",
     "text": [
      "[[1 2 3]\n",
      " [4 5 6]\n",
      " [7 8 9]]\n"
     ]
    }
   ],
   "source": [
    "vals=np.array([[1,2,3],[4,5,6],[7,8,9]])\n",
    "print(vals)"
   ]
  },
  {
   "cell_type": "code",
   "execution_count": 7,
   "id": "841a7bc1",
   "metadata": {},
   "outputs": [
    {
     "name": "stdout",
     "output_type": "stream",
     "text": [
      "[[1. 0. 0.]\n",
      " [0. 1. 0.]\n",
      " [0. 0. 1.]]\n"
     ]
    }
   ],
   "source": [
    "vals=np.identity(3) # 3x3 identity matrix\n",
    "print(vals)"
   ]
  },
  {
   "cell_type": "code",
   "execution_count": 15,
   "id": "37f5054a",
   "metadata": {},
   "outputs": [
    {
     "name": "stdout",
     "output_type": "stream",
     "text": [
      "[1 2 3 4]\n",
      "[  1 700   3   4]\n"
     ]
    }
   ],
   "source": [
    "vals=np.arange(1,5)\n",
    "copy=np.copy(vals)\n",
    "copy[1]=700\n",
    "print (vals)\n",
    "print(copy)\n"
   ]
  },
  {
   "cell_type": "code",
   "execution_count": 26,
   "id": "54324d91",
   "metadata": {},
   "outputs": [
    {
     "name": "stdout",
     "output_type": "stream",
     "text": [
      "[[ 1  2  3  4  5]\n",
      " [ 1  2  3  4  5]\n",
      " [ 6  7  8  9 10]\n",
      " [ 6  7  8  9 10]]\n",
      "[[ 1  2  3  4  5  6  7  8  9 10]\n",
      " [ 1  2  3  4  5  6  7  8  9 10]]\n"
     ]
    }
   ],
   "source": [
    "a=[[1,2,3,4,5],[1,2,3,4,5]]\n",
    "b=[[6,7,8,9,10],[6,7,8,9,10]]\n",
    "c=np.concatenate([a,b]) #horizontal joining\n",
    "print(c)\n",
    "c=np.concatenate([a,b],axis=1)#vertical joining\n",
    "print(c)"
   ]
  },
  {
   "cell_type": "code",
   "execution_count": null,
   "id": "b96d5b5f",
   "metadata": {},
   "outputs": [
    {
     "name": "stdout",
     "output_type": "stream",
     "text": [
      "(array([3, 5], dtype=int64),)\n",
      "9\n",
      "5\n",
      "4\n",
      "10\n"
     ]
    }
   ],
   "source": [
    "vals=np.array([9,5,4,31,10,12])\n",
    "indices=np.where(vals>10)# returns indices of elements > 10\n",
    "print(indices)\n",
    "for i in range(0,len(vals)):#printing other values\n",
    "    if i not in indices[0]:\n",
    "        print(vals[i])"
   ]
  },
  {
   "cell_type": "code",
   "execution_count": null,
   "id": "46bb76ba",
   "metadata": {},
   "outputs": [],
   "source": []
  }
 ],
 "metadata": {
  "kernelspec": {
   "display_name": "base",
   "language": "python",
   "name": "python3"
  },
  "language_info": {
   "codemirror_mode": {
    "name": "ipython",
    "version": 3
   },
   "file_extension": ".py",
   "mimetype": "text/x-python",
   "name": "python",
   "nbconvert_exporter": "python",
   "pygments_lexer": "ipython3",
   "version": "3.12.4"
  }
 },
 "nbformat": 4,
 "nbformat_minor": 5
}
