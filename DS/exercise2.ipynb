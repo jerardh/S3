{
 "cells": [
  {
   "cell_type": "code",
   "execution_count": 38,
   "id": "2fbc5908",
   "metadata": {},
   "outputs": [],
   "source": [
    "import numpy as np\n",
    "from numpy import linalg"
   ]
  },
  {
   "cell_type": "code",
   "execution_count": 39,
   "id": "50822557",
   "metadata": {},
   "outputs": [],
   "source": [
    "def matrixread(n):\n",
    "    matrix = [] \n",
    "    for i in range(0,n):\n",
    "        temp=[]\n",
    "        for j in range(0,n):\n",
    "            num=int(input(\"Enter element \"+str(i)+\",\"+str(j)))\n",
    "            temp.append(num)\n",
    "        matrix.append(temp)\n",
    "    return matrix"
   ]
  },
  {
   "cell_type": "code",
   "execution_count": 40,
   "id": "3b61669c",
   "metadata": {},
   "outputs": [
    {
     "name": "stdout",
     "output_type": "stream",
     "text": [
      "Matrix 1\n",
      "Matrix 2\n",
      "Matrices are\n",
      "[[1 2 3]\n",
      " [4 5 6]\n",
      " [7 8 9]]\n",
      "[[12 12 33]\n",
      " [23 12 56]\n",
      " [32 45 27]]\n"
     ]
    }
   ],
   "source": [
    "n=int(input(\"Enter the order of the matrix\")) #defining a matrix\n",
    "print(\"Matrix 1\")\n",
    "matrix1=np.array(matrixread(n))\n",
    "print(\"Matrix 2\")\n",
    "matrix2=np.array(matrixread(n))\n",
    "print(\"Matrices are\")\n",
    "print(matrix1)\n",
    "print(matrix2)"
   ]
  },
  {
   "cell_type": "code",
   "execution_count": 41,
   "id": "c579b43c",
   "metadata": {},
   "outputs": [
    {
     "name": "stdout",
     "output_type": "stream",
     "text": [
      "[[1 4 7]\n",
      " [2 5 8]\n",
      " [3 6 9]]\n"
     ]
    }
   ],
   "source": [
    "print(np.transpose(matrix1)) #2. Transpose of matrix\n"
   ]
  },
  {
   "cell_type": "code",
   "execution_count": 42,
   "id": "ffca428d",
   "metadata": {},
   "outputs": [
    {
     "name": "stdout",
     "output_type": "stream",
     "text": [
      "15\n"
     ]
    }
   ],
   "source": [
    "print(np.trace(matrix1)) #3. Trace - sum of diagonal elements\n"
   ]
  },
  {
   "cell_type": "code",
   "execution_count": 43,
   "id": "54ff9271",
   "metadata": {},
   "outputs": [
    {
     "name": "stdout",
     "output_type": "stream",
     "text": [
      "[[154 171 226]\n",
      " [355 378 574]\n",
      " [556 585 922]]\n"
     ]
    }
   ],
   "source": [
    "print(np.dot(matrix1,matrix2)) #1. dot product of 2 matrices\n"
   ]
  },
  {
   "cell_type": "code",
   "execution_count": 44,
   "id": "e4cfa36d",
   "metadata": {},
   "outputs": [
    {
     "name": "stdout",
     "output_type": "stream",
     "text": [
      "[[ 3.15251974e+15 -6.30503948e+15  3.15251974e+15]\n",
      " [-6.30503948e+15  1.26100790e+16 -6.30503948e+15]\n",
      " [ 3.15251974e+15 -6.30503948e+15  3.15251974e+15]]\n"
     ]
    }
   ],
   "source": [
    "print(linalg.inv(matrix1)) #6. inverse of a matrix\n"
   ]
  },
  {
   "cell_type": "code",
   "execution_count": 45,
   "id": "831349db",
   "metadata": {},
   "outputs": [
    {
     "name": "stdout",
     "output_type": "stream",
     "text": [
      "2\n"
     ]
    }
   ],
   "source": [
    "print(linalg.matrix_rank(matrix1)) # 4. rank of matrix\n"
   ]
  },
  {
   "cell_type": "code",
   "execution_count": 46,
   "id": "5843ea99",
   "metadata": {},
   "outputs": [
    {
     "name": "stdout",
     "output_type": "stream",
     "text": [
      "EigResult(eigenvalues=array([ 1.61168440e+01, -1.11684397e+00, -3.38433605e-16]), eigenvectors=array([[-0.23197069, -0.78583024,  0.40824829],\n",
      "       [-0.52532209, -0.08675134, -0.81649658],\n",
      "       [-0.8186735 ,  0.61232756,  0.40824829]]))\n"
     ]
    }
   ],
   "source": [
    "print(linalg.eig(matrix1)) # 7. eigen values and eigen vectors"
   ]
  },
  {
   "cell_type": "code",
   "execution_count": 47,
   "id": "ce155f05",
   "metadata": {},
   "outputs": [
    {
     "name": "stdout",
     "output_type": "stream",
     "text": [
      "-9.51619735392994e-16\n"
     ]
    }
   ],
   "source": [
    "print(linalg.det(matrix1)) # 5. determinant of matrix"
   ]
  }
 ],
 "metadata": {
  "kernelspec": {
   "display_name": "base",
   "language": "python",
   "name": "python3"
  },
  "language_info": {
   "codemirror_mode": {
    "name": "ipython",
    "version": 3
   },
   "file_extension": ".py",
   "mimetype": "text/x-python",
   "name": "python",
   "nbconvert_exporter": "python",
   "pygments_lexer": "ipython3",
   "version": "3.12.4"
  }
 },
 "nbformat": 4,
 "nbformat_minor": 5
}
