{
 "cells": [
  {
   "cell_type": "code",
   "execution_count": 1,
   "id": "c94b631c",
   "metadata": {},
   "outputs": [],
   "source": [
    "from sklearn.linear_model import LinearRegression\n",
    "import numpy as np\n",
    "import random\n",
    "import matplotlib.pyplot as plt"
   ]
  },
  {
   "cell_type": "code",
   "execution_count": 2,
   "id": "a4dfcb17",
   "metadata": {},
   "outputs": [],
   "source": [
    "X = X = np.array([\n",
    "    [1, 2],\n",
    "    [2, 3],\n",
    "    [4, 5],\n",
    "    [3, 6],\n",
    "    [5, 8],\n",
    "    [6,9],\n",
    "    [7,10],\n",
    "    [8,11],\n",
    "    [9,12],\n",
    "    [10,13]\n",
    "])\n",
    "Y = np.array([1,2,10,12,18,29,34,40,49,51])\n",
    "\n",
    "\n"
   ]
  },
  {
   "cell_type": "code",
   "execution_count": 3,
   "id": "fff9e43a",
   "metadata": {},
   "outputs": [
    {
     "name": "stdout",
     "output_type": "stream",
     "text": [
      "[385.45783133]\n"
     ]
    }
   ],
   "source": [
    "model = LinearRegression()\n",
    "model.fit(X,Y)\n",
    "Y_pred = model.predict([[69,70]])\n",
    "print(Y_pred)\n",
    "\n"
   ]
  }
 ],
 "metadata": {
  "kernelspec": {
   "display_name": "base",
   "language": "python",
   "name": "python3"
  },
  "language_info": {
   "codemirror_mode": {
    "name": "ipython",
    "version": 3
   },
   "file_extension": ".py",
   "mimetype": "text/x-python",
   "name": "python",
   "nbconvert_exporter": "python",
   "pygments_lexer": "ipython3",
   "version": "3.12.4"
  }
 },
 "nbformat": 4,
 "nbformat_minor": 5
}
